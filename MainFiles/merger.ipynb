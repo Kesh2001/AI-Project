{
 "cells": [
  {
   "cell_type": "code",
   "execution_count": 2,
   "metadata": {},
   "outputs": [
    {
     "name": "stdout",
     "output_type": "stream",
     "text": [
      "Merged data saved successfully to 'Merged_Data_Final.csv'\n"
     ]
    }
   ],
   "source": [
    "import pandas as pd\n",
    "\n",
    "# Load the CSV files\n",
    "machinelearning_df = pd.read_csv('./MachineLearning.csv')\n",
    "predictions_df = pd.read_csv('./predictions_with_sentiment.csv')\n",
    "\n",
    "# Drop the 'idML' column\n",
    "machinelearning_df = machinelearning_df.drop(columns=['idML'])\n",
    "\n",
    "# Remove all data before 2019 in machinelearning_df\n",
    "machinelearning_df = machinelearning_df[machinelearning_df['ref_date'] >= '2019-01-01']\n",
    "\n",
    "# Convert ref_date to datetime format in both DataFrames\n",
    "machinelearning_df['ref_date'] = pd.to_datetime(machinelearning_df['ref_date'])\n",
    "predictions_df['ref_date'] = pd.to_datetime(predictions_df['ref_date'])\n",
    "\n",
    "# Perform an outer merge\n",
    "merged_df = pd.merge(\n",
    "    machinelearning_df,\n",
    "    predictions_df,\n",
    "    on=['ref_date', 'geo', 'noc_code', 'noc_desc', 'job_char'],\n",
    "    how='outer'\n",
    ")\n",
    "\n",
    "# Define sentiment score mapping\n",
    "sentiment_mapping = {\n",
    "    2019: 1.826354,\n",
    "    2020: 1.826354,\n",
    "    2021: 0.930538,\n",
    "    2022: 0.000000,\n",
    "    2023: 0.000000,\n",
    "    2024: 0.568935\n",
    "}\n",
    "\n",
    "# Propagate sentiment scores forward for future years\n",
    "future_years = range(2025, 2027)\n",
    "for year in future_years:\n",
    "    sentiment_mapping[year] = 0.568935\n",
    "\n",
    "# Map sentiment scores based on the year of the ref_date\n",
    "merged_df['sentiment_score'] = merged_df['ref_date'].dt.year.map(sentiment_mapping)\n",
    "\n",
    "# Ensure predicted vacancies are empty for 2015-2022\n",
    "merged_df['predicted_total_vacancies'] = merged_df.apply(\n",
    "    lambda row: row['predicted_total_vacancies']\n",
    "    if row['ref_date'].year >= 2023\n",
    "    else None,\n",
    "    axis=1\n",
    ")\n",
    "\n",
    "# Drop the 'predicted_vacancies' column\n",
    "merged_df = merged_df.drop(columns=['predicted_vacancies'])\n",
    "\n",
    "# Drop duplicate rows\n",
    "merged_df = merged_df.drop_duplicates()\n",
    "\n",
    "# Save the merged data to a new CSV\n",
    "merged_df.to_csv('Merged_Data_Final.csv', index=False)\n",
    "\n",
    "print(\"Merged data saved successfully to 'Merged_Data_Final.csv'\")\n"
   ]
  }
 ],
 "metadata": {
  "kernelspec": {
   "display_name": "Python 3",
   "language": "python",
   "name": "python3"
  },
  "language_info": {
   "codemirror_mode": {
    "name": "ipython",
    "version": 3
   },
   "file_extension": ".py",
   "mimetype": "text/x-python",
   "name": "python",
   "nbconvert_exporter": "python",
   "pygments_lexer": "ipython3",
   "version": "3.10.6"
  }
 },
 "nbformat": 4,
 "nbformat_minor": 2
}
