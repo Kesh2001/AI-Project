{
 "cells": [
  {
   "cell_type": "code",
   "execution_count": null,
   "metadata": {},
   "outputs": [
    {
     "name": "stdout",
     "output_type": "stream",
     "text": [
      "RMSE: 168391856.36\n",
      "MAPE: 1949616.48%\n",
      "Accuracy: -1949516.48%\n"
     ]
    }
   ],
   "source": [
    "import pandas as pd\n",
    "import numpy as np\n",
    "from sklearn.metrics import mean_squared_error\n",
    "\n",
    "# Load the merged dataset\n",
    "merged_df = pd.read_csv('./Best_Merged_Data_Final.csv')\n",
    "\n",
    "# Ensure 'ref_date' is in datetime format\n",
    "merged_df['ref_date'] = pd.to_datetime(merged_df['ref_date'])\n",
    "\n",
    "# Filter data for 2023 to 2024 Q2\n",
    "filtered_df = merged_df[\n",
    "    (merged_df['ref_date'] >= '2023-01-01') & \n",
    "    (merged_df['ref_date'] < '2024-07-01')\n",
    "]\n",
    "\n",
    "# Ensure there are no missing values in 'total_vacancies' and 'predicted_total_vacancies'\n",
    "filtered_df = filtered_df.dropna(subset=['total_vacancies', 'predicted_total_vacancies'])\n",
    "\n",
    "\n",
    "# Alternatively, replace zeros with a small positive value (uncomment below if preferred)\n",
    "# filtered_df['total_vacancies'] = filtered_df['total_vacancies'].replace(0, 1)\n",
    "\n",
    "\n",
    "# Convert columns to numeric for calculations\n",
    "filtered_df['total_vacancies'] = pd.to_numeric(filtered_df['total_vacancies'])\n",
    "filtered_df['predicted_total_vacancies'] = pd.to_numeric(filtered_df['predicted_total_vacancies'])\n",
    "\n",
    "\n",
    "# Alternatively, replace zeros with a small positive value (uncomment below if preferred)\n",
    "#filtered_df['total_vacancies'] = filtered_df['total_vacancies'].replace(0, 1)\n",
    "\n",
    "\n",
    "# Calculate RMSE\n",
    "rmse = np.sqrt(mean_squared_error(\n",
    "    filtered_df['total_vacancies'],\n",
    "    filtered_df['predicted_total_vacancies']\n",
    "))\n",
    "\n",
    "# Calculate MAPE (avoid dividing by zero)\n",
    "filtered_df['absolute_percentage_error'] = np.abs(\n",
    "    (filtered_df['total_vacancies'] - filtered_df['predicted_total_vacancies']) \n",
    "    / filtered_df['total_vacancies']\n",
    ")\n",
    "mape = filtered_df['absolute_percentage_error'].mean() * 100  # Convert to percentage\n",
    "\n",
    "# Calculate Accuracy\n",
    "accuracy = 100 - mape\n",
    "\n",
    "# Output the metrics\n",
    "print(f\"RMSE: {rmse:.2f}\")\n",
    "print(f\"MAPE: {mape:.2f}%\")\n",
    "print(f\"Accuracy: {accuracy:.2f}%\")\n"
   ]
  }
 ],
 "metadata": {
  "kernelspec": {
   "display_name": "Python 3",
   "language": "python",
   "name": "python3"
  },
  "language_info": {
   "codemirror_mode": {
    "name": "ipython",
    "version": 3
   },
   "file_extension": ".py",
   "mimetype": "text/x-python",
   "name": "python",
   "nbconvert_exporter": "python",
   "pygments_lexer": "ipython3",
   "version": "3.10.6"
  }
 },
 "nbformat": 4,
 "nbformat_minor": 2
}
